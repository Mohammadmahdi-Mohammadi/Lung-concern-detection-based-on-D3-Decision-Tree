{
 "cells": [
  {
   "cell_type": "code",
   "execution_count": null,
   "id": "e2fed51e",
   "metadata": {},
   "outputs": [],
   "source": []
  },
  {
   "cell_type": "code",
   "execution_count": 57,
   "id": "e5056359",
   "metadata": {},
   "outputs": [],
   "source": [
    "import math\n",
    "import numpy as np\n",
    "import pandas as pd\n",
    "import matplotlib.pyplot as plt\n",
    "from collections import Counter\n",
    "from __future__ import annotations\n",
    "from sklearn.model_selection import train_test_split\n",
    "from sklearn.metrics import precision_score, accuracy_score\n",
    "def splitData(data, splitColumn, splitValue):\n",
    "    splitColumnValues = data[:, splitColumn]\n",
    "    return data[splitColumnValues <= splitValue], data[splitColumnValues > splitValue]\n",
    "count = 3\n",
    "def calculateEntropy(data):\n",
    "    _, uniqueClassesCounts = numpy.unique(data[:, -1], return_counts = True)\n",
    "    probabilities = uniqueClassesCounts / uniqueClassesCounts.sum()\n",
    "    return sum(probabilities * -numpy.log2(probabilities))\n",
    "def calculateOverallEntropy(dataBelow, dataAbove):\n",
    "    pDataBelow = len(dataBelow) / (len(dataBelow) + len(dataAbove))\n",
    "    pDataAbove = len(dataAbove) / (len(dataBelow) + len(dataAbove))\n",
    "    return pDataBelow * calculateEntropy(dataBelow) + pDataAbove * calculateEntropy(dataAbove)\n",
    "def classifySample(sample, decisionTree):\n",
    "    if not isinstance(decisionTree, dict):\n",
    "        return decisionTree\n",
    "    question = list(decisionTree.keys())[0]\n",
    "    attribute, value = question.split(\" <= \")\n",
    "    if sample[attribute] <= float(value):\n",
    "        answer = decisionTree[question][0]\n",
    "    else:\n",
    "        answer = decisionTree[question][1]\n",
    "    return classifySample(sample, answer)\n",
    "def decisionTreePredictions(dataFrame, decisionTree):\n",
    "    predictions = dataFrame.apply(classifySample, axis = 1, args = (decisionTree,))\n",
    "    return predictions\n",
    "def calculateAccuracy(predictedResults, category):\n",
    "    resultCorrect = predictedResults == category\n",
    "    return resultCorrect.mean()\n",
    "def buildDecisionTree(dataFrame, currentDepth = 0, minSampleSize = 2, maxDepth = 1000, randomAttributes = None, randomSplits = None):\n",
    "    if currentDepth == 0:\n",
    "        global COLUMN_HEADERS\n",
    "        COLUMN_HEADERS = dataFrame.columns\n",
    "        data = dataFrame.values\n",
    "        if randomAttributes != None and randomAttributes <= len(COLUMN_HEADERS) - 1:\n",
    "            randomAttributes = random.sample(population = list(range(len(COLUMN_HEADERS) - 1)), k = randomAttributes)\n",
    "        else:\n",
    "            randomAttributes = None\n",
    "    else:\n",
    "        data = dataFrame\n",
    "    if checkPurity(data) or len(data) < minSampleSize or currentDepth == maxDepth:\n",
    "        return classifyData(data)\n",
    "    else:\n",
    "        currentDepth += 1\n",
    "        potentialSplits = getPotentialSplits(data, randomAttributes)\n",
    "        splitColumn, splitValue = determineBestSplit(data, potentialSplits, randomSplits)\n",
    "        dataBelow, dataAbove = splitData(data, splitColumn, splitValue)\n",
    "        if len(dataBelow) == 0 or len(dataAbove) == 0:\n",
    "            return classifyData(data)\n",
    "        else:\n",
    "            question = str(COLUMN_HEADERS[splitColumn]) + \" <= \" + str(splitValue)\n",
    "            decisionSubTree = {question: []}\n",
    "            yesAnswer = buildDecisionTree(dataBelow, currentDepth, minSampleSize, maxDepth, randomAttributes, randomSplits)\n",
    "            noAnswer = buildDecisionTree(dataAbove, currentDepth, minSampleSize, maxDepth, randomAttributes, randomSplits)\n",
    "            if yesAnswer == noAnswer:\n",
    "                decisionSubTree = yesAnswer\n",
    "            else:\n",
    "                decisionSubTree[question].append(yesAnswer)\n",
    "                decisionSubTree[question].append(noAnswer)\n",
    "            return decisionSubTree\n",
    "class DecisionTree:\n",
    "    def categorical_options(a):\n",
    "        a = a.unique()\n",
    "        opciones = []\n",
    "        for L in range(0, len(a)+1):\n",
    "            for subset in itertools.combinations(a, L):\n",
    "                subset = list(subset)\n",
    "                opciones.append(subset)\n",
    "        return opciones[1:-1]\n",
    "    def __init__(self, data: np.ndarray, depth: int, left: DecisionTree, right: DecisionTree, threshold: float,\n",
    "                 max_depth: int):\n",
    "        self.left = left\n",
    "        self.right = right\n",
    "        self.data = data\n",
    "        self.depth = depth\n",
    "        self.threshold = threshold\n",
    "        self.is_leaf = False\n",
    "        self.max_depth = max_depth\n",
    "        self.left_rule = None  \n",
    "        self.best_index = -1\n",
    "    def post_prune(self, alpha):                \n",
    "        left_acc = self.calc_p(self.left.data) * len(self.left.data)\n",
    "        right_acc = self.right.calc_p(self.right.data) * len(self.right.data)\n",
    "        imporvment = left_acc + right_acc - self.calc_p(self.data)\n",
    "        if alpha <= imporvment:\n",
    "            return False\n",
    "        else:\n",
    "            return True  \n",
    "    def predict_data(self, input: np.ndarray, search_max_depth=100, current_depth=1, alpha=0.00):\n",
    "        if input.ndim == 1:\n",
    "            if self.is_leaf == True or self.left is None or self.right is None or self.best_index == -1 or search_max_depth <= current_depth or self.post_prune(\n",
    "                    alpha):\n",
    "                results = self.data[:, -1]\n",
    "                b = Counter(results.tolist())\n",
    "                return b.most_common(1)[0][0]\n",
    "            if input[self.best_index] == self.left_rule:\n",
    "                return self.left.predict_data(input, current_depth=current_depth + 1 ,alpha=alpha , search_max_depth=search_max_depth)\n",
    "            else:\n",
    "                return self.right.predict_data(input, current_depth=current_depth + 1,alpha=alpha , search_max_depth=search_max_depth)\n",
    "        else:\n",
    "            m, n = input.shape\n",
    "            results = []\n",
    "            for i in range(m):\n",
    "                res = self.predict_data(input[i, :],alpha=alpha , search_max_depth=search_max_depth)\n",
    "                results.append(res)\n",
    "            results = np.array(results)\n",
    "            return results\n",
    "    def entropy_calculator(self, p):\n",
    "        if p == 0 or p == 1:\n",
    "            return 0\n",
    "        return - (p * math.log2(p) + (1 - p) * math.log2(1 - p))\n",
    "    def calc_p(self, data: np.ndarray) -> float:\n",
    "        unique, counts = np.unique(data[:, -1], return_counts=True)\n",
    "        my_dict = dict(zip(unique, counts))\n",
    "        elements = list(my_dict.keys())\n",
    "        if len(elements) == 1:\n",
    "            return 1  \n",
    "        first_element = my_dict[elements[0]]\n",
    "        second_element = my_dict[elements[1]]\n",
    "        p = first_element / (first_element + second_element)\n",
    "        if p < 0.5:\n",
    "            p = 1 - p\n",
    "        return p\n",
    "    def check_purity(self, data: np.ndarray, purity_threshold: float) -> bool:\n",
    "        purity = self.calc_p(data)\n",
    "        if purity > purity_threshold:\n",
    "            return True\n",
    "        else:\n",
    "            return False\n",
    "    def split_by_feature(self, data: np.ndarray, column_id: int) -> (\n",
    "            np.ndarray, np.ndarray, object):\n",
    "        m, n = data.shape\n",
    "        unique, counts = np.unique(data[:, column_id], return_counts=True)\n",
    "        my_dict = dict(zip(unique, counts))\n",
    "        elements = list(my_dict.keys())\n",
    "        left_rule = elements[0]\n",
    "        left = []\n",
    "        right = []\n",
    "        for i in range(m):\n",
    "            if data[i, column_id] == left_rule:\n",
    "                left.append(data[i, :])\n",
    "            else:\n",
    "                right.append(data[i, :])\n",
    "        left = np.array(left)\n",
    "        right = np.array(right)\n",
    "        return left, right, left_rule\n",
    "    def find_best_column_feature(self):\n",
    "        if self.check_purity(self.data, self.threshold):\n",
    "            self.is_leaf = True\n",
    "            return\n",
    "        if self.depth >= self.max_depth:\n",
    "            self.is_leaf = True\n",
    "            return\n",
    "        m, n = self.data.shape\n",
    "        scores = []\n",
    "        intial_entropy = self.entropy_calculator(self.calc_p(self.data))\n",
    "        for i in range(n - 1):\n",
    "            left, right, _ = self.split_by_feature(self.data, i)\n",
    "            if left.ndim == 1 or right.ndim == 1:\n",
    "                scores.append(0)\n",
    "                continue  \n",
    "            left_p = self.calc_p(left)\n",
    "            left_entropy = self.entropy_calculator(p=left_p)\n",
    "            right_p = self.calc_p(right)\n",
    "            right_entropy = self.entropy_calculator(p=right_p)\n",
    "            score = len(left) * left_entropy + len(right) * right_entropy\n",
    "            score /= len(self.data)  # better to combine both 2 lines\n",
    "            score = intial_entropy - score\n",
    "            scores.append(score)\n",
    "        self.best_index = scores.index(max(scores))\n",
    "        left, right, left_rule = self.split_by_feature(self.data, self.best_index)\n",
    "        if left.ndim != 1: \n",
    "            self.left_rule = left_rule\n",
    "            self.left = DecisionTree(left, self.depth + 1, None, None, self.threshold, self.max_depth)\n",
    "            self.left.find_best_column_feature()\n",
    "        if right.ndim != 1:\n",
    "            self.right = DecisionTree(right, self.depth + 1, None, None, self.threshold, self.max_depth)\n",
    "            self.right.find_best_column_feature()"
   ]
  },
  {
   "cell_type": "markdown",
   "id": "9e6a0c5d",
   "metadata": {},
   "source": [
    "### Part A"
   ]
  },
  {
   "cell_type": "code",
   "execution_count": 58,
   "id": "ab5e5718",
   "metadata": {},
   "outputs": [
    {
     "name": "stdout",
     "output_type": "stream",
     "text": [
      "Result:  \n",
      " 0.8663793103448276 as accuracy\n",
      "0.39285714285714285 as precision \n",
      "\n",
      "col_0  NO  YES\n",
      "row_0         \n",
      "NO     11   17\n",
      "YES    14  190\n"
     ]
    }
   ],
   "source": [
    "data_set = pd.read_csv(\"lungcancer.csv\")\n",
    "main_data_set = data_set.to_numpy()\n",
    "for i in range(main_data_set.shape[0]):\n",
    "    if main_data_set[i,1] > 44:\n",
    "        main_data_set[i,1] = 1\n",
    "    else:\n",
    "        main_data_set[i,1] = 0\n",
    "Xdim_for_train, Xdim_for_test, ydim_for_train, ydim_for_test = train_test_split(main_data_set[:, :16], main_data_set[:, 15], test_size=0.75,\n",
    "                                                                                random_state=22)\n",
    "while(count>2):\n",
    "    Decision_tree_data = DecisionTree(Xdim_for_train, 0, None, None, 1, 16)\n",
    "    Decision_tree_data.find_best_column_feature()\n",
    "    count -= 2\n",
    "    _, uniqueClassesCounts = np.unique(main_data_set[:, -1], return_counts = True)\n",
    "    probabilities = uniqueClassesCounts / uniqueClassesCounts.sum()\n",
    "    pridiction = Decision_tree_data.predict_data(Xdim_for_test)\n",
    "    value_accuracy_ = accuracy_score(pridiction, ydim_for_test)\n",
    "    result = precision_score(pridiction, ydim_for_test, pos_label='NO')\n",
    "    print(\"Result: \",'\\n',value_accuracy_, \"as accuracy\")\n",
    "    print(result, \"as precision \\n\")\n",
    "    dim__y1 = pd.Series(ydim_for_test)\n",
    "    dim__y2 = pd.Series(pridiction)\n",
    "    print(pd.crosstab(dim__y1, dim__y2))"
   ]
  },
  {
   "cell_type": "markdown",
   "id": "8457fa98",
   "metadata": {},
   "source": [
    "### Part B"
   ]
  },
  {
   "cell_type": "code",
   "execution_count": 59,
   "id": "d769c407",
   "metadata": {},
   "outputs": [
    {
     "name": "stdout",
     "output_type": "stream",
     "text": [
      "Result for seven iterations: \n",
      "mean for accuracy:  0.8663793103448275\n",
      "mean for precision : 0.39285714285714285\n"
     ]
    }
   ],
   "source": [
    "accuracy_list,pre_list = [],[]\n",
    "for i in range(0,7):\n",
    "    Xdim_for_train, Xdim_for_test, ydim_for_train, ydim_for_test = train_test_split(main_data_set[:, :16], main_data_set[:, 15], test_size=0.75,\n",
    "                                                                                    random_state=22)\n",
    "    Decision_tree_data = DecisionTree(Xdim_for_train, 0, None, None, 1, 16)\n",
    "    Decision_tree_data.find_best_column_feature()\n",
    "    _, uniqueClassesCounts = np.unique(main_data_set[:, -1], return_counts = True)\n",
    "    probabilities = uniqueClassesCounts / uniqueClassesCounts.sum()\n",
    "    pridiction = Decision_tree_data.predict_data(Xdim_for_test)\n",
    "    value_accuracy_ = accuracy_score(pridiction, ydim_for_test)\n",
    "    result = precision_score(pridiction, ydim_for_test, pos_label='NO')\n",
    "    accuracy_list.append(value_accuracy_)\n",
    "    pre_list.append(result)\n",
    "print(\"Result for seven iterations: \")\n",
    "print(\"mean for accuracy: \",np.average(accuracy_list))\n",
    "print(\"mean for precision :\", np.average(pre_list))\n"
   ]
  },
  {
   "cell_type": "markdown",
   "id": "c584afec",
   "metadata": {},
   "source": [
    "### Part C"
   ]
  },
  {
   "cell_type": "code",
   "execution_count": 60,
   "id": "54b99de9",
   "metadata": {},
   "outputs": [
    {
     "name": "stdout",
     "output_type": "stream",
     "text": [
      "train size:  0.2\n",
      "Result:  \n",
      " 0.8870967741935484 as accuracy\n",
      "0.75 as precision \n",
      "\n",
      "___________________________________\n",
      "train size:  0.45\n",
      "Result:  \n",
      " 0.8642857142857143 as accuracy\n",
      "0.5 as precision \n",
      "\n",
      "___________________________________\n",
      "train size:  0.65\n",
      "Result:  \n",
      " 0.8805970149253731 as accuracy\n",
      "0.6666666666666666 as precision \n",
      "\n",
      "___________________________________\n",
      "train size:  0.85\n",
      "Result:  \n",
      " 0.8669201520912547 as accuracy\n",
      "0.5806451612903226 as precision \n",
      "\n",
      "___________________________________\n"
     ]
    }
   ],
   "source": [
    "all_possible_sizes = [0.2,0.45,0.65,0.85]\n",
    "for size in all_possible_sizes:\n",
    "    Xdim_for_train, Xdim_for_test, ydim_for_train, ydim_for_test = train_test_split(main_data_set[:, :16], main_data_set[:, 15], test_size=size,\n",
    "                                                                                random_state=22)\n",
    "    Decision_tree_data = DecisionTree(Xdim_for_train, 0, None, None, 1, 16)\n",
    "    Decision_tree_data.find_best_column_feature()\n",
    "    _, uniqueClassesCounts = np.unique(main_data_set[:, -1], return_counts = True)\n",
    "    probabilities = uniqueClassesCounts / uniqueClassesCounts.sum()\n",
    "    pridiction = Decision_tree_data.predict_data(Xdim_for_test)\n",
    "    value_accuracy_ = accuracy_score(pridiction, ydim_for_test)\n",
    "    result = precision_score(pridiction, ydim_for_test, pos_label='NO')\n",
    "    print(\"train size: \", size)\n",
    "    print(\"Result: \",'\\n',value_accuracy_, \"as accuracy\")\n",
    "    print(result, \"as precision \\n\")\n",
    "    print(\"___________________________________\")\n",
    "    "
   ]
  },
  {
   "cell_type": "markdown",
   "id": "caa87887",
   "metadata": {},
   "source": [
    "### Part D"
   ]
  },
  {
   "cell_type": "code",
   "execution_count": 61,
   "id": "3482592a",
   "metadata": {},
   "outputs": [],
   "source": [
    "Xdim_for_train, Xdim_for_test, ydim_for_train, ydim_for_test = train_test_split(main_data_set[:, :16], main_data_set[:, 15], \n",
    "                                                                                test_size=0.25)\n",
    "accuracy_list,precision_list,pointer = [],[],[]\n",
    "for current_depth_value_ in range(0 , 16):\n",
    "    Decision_tree_data = DecisionTree(Xdim_for_train, 0, None, None, 1, 16)\n",
    "    pointer.append(current_depth_value_)\n",
    "    _, uniqueClassesCounts = np.unique(main_data_set[:, -1], return_counts = True)\n",
    "    probabilities = uniqueClassesCounts / uniqueClassesCounts.sum()\n",
    "    Decision_tree_data.find_best_column_feature()\n",
    "    prediction = Decision_tree_data.predict_data(Xdim_for_test ,alpha=0.1 , \n",
    "                                                 search_max_depth=current_depth_value_)\n",
    "    value_for_accuracy = accuracy_score(prediction, ydim_for_test)\n",
    "    value_for_precison = precision_score(prediction, ydim_for_test, pos_label='NO')\n",
    "    accuracy_list.append(value_for_accuracy)\n",
    "    precision_list.append(value_for_precison)"
   ]
  },
  {
   "cell_type": "code",
   "execution_count": 62,
   "id": "71264394",
   "metadata": {
    "scrolled": true
   },
   "outputs": [
    {
     "data": {
      "text/plain": [
       "[<matplotlib.lines.Line2D at 0x23857f4c040>]"
      ]
     },
     "execution_count": 62,
     "metadata": {},
     "output_type": "execute_result"
    },
    {
     "data": {
      "image/png": "[encoded data removed]",
      "text/plain": [
       "<Figure size 640x480 with 1 Axes>"
      ]
     },
     "metadata": {},
     "output_type": "display_data"
    }
   ],
   "source": [
    "plt.xlabel(\"depth limit\")\n",
    "plt.ylabel(\"accuracy\")\n",
    "plt.plot(pointer,accuracy_list,color=\"darkorange\", linewidth=4)"
   ]
  },
  {
   "cell_type": "code",
   "execution_count": 63,
   "id": "8dfd5d51",
   "metadata": {},
   "outputs": [
    {
     "data": {
      "text/plain": [
       "[<matplotlib.lines.Line2D at 0x23857f91730>]"
      ]
     },
     "execution_count": 63,
     "metadata": {},
     "output_type": "execute_result"
    },
    {
     "data": {
      "image/png": "[encoded data removed]",
      "text/plain": [
       "<Figure size 640x480 with 1 Axes>"
      ]
     },
     "metadata": {},
     "output_type": "display_data"
    }
   ],
   "source": [
    "plt.xlabel(\"depth limit\")\n",
    "plt.ylabel(\"precison\")\n",
    "plt.plot(pointer,precision_list,color=\"darkorange\", linewidth=4)"
   ]
  }
 ],
 "metadata": {
  "kernelspec": {
   "display_name": "Python 3 (ipykernel)",
   "language": "python",
   "name": "python3"
  },
  "language_info": {
   "codemirror_mode": {
    "name": "ipython",
    "version": 3
   },
   "file_extension": ".py",
   "mimetype": "text/x-python",
   "name": "python",
   "nbconvert_exporter": "python",
   "pygments_lexer": "ipython3",
   "version": "3.9.13"
  }
 },
 "nbformat": 4,
 "nbformat_minor": 5
}
